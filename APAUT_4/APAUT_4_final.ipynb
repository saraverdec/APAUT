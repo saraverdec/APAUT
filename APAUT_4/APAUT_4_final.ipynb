{
 "cells": [
  {
   "cell_type": "markdown",
   "id": "6e66f4dc",
   "metadata": {},
   "source": [
    "<div class=\"title\">Supervised Learning: Case Study</div>\n",
    "<div class=\"subtitle\">Machine Learning</div>\n",
    "<div class=\"author\">Carlos María Alaíz Gudín &mdash; Universidad Autónoma de Madrid</div>\n",
    "\n",
    "---\n",
    "<div style=\"font-size: large; font-weight: bold; margin-left: 6em;\"><p>Team Number and Names: <u>3: Enrique Juliá Arévalo, Sara Verde Camacho, Leo Pérez Peña</u></div>\n"
   ]
  },
  {
   "cell_type": "markdown",
   "id": "82ee21a7",
   "metadata": {},
   "source": [
    "**Configuration**"
   ]
  },
  {
   "cell_type": "markdown",
   "metadata": {},
   "source": [
    "This cell defines the general configuration of Jupyter Notebook."
   ]
  },
  {
   "cell_type": "code",
   "execution_count": 1,
   "metadata": {},
   "outputs": [
    {
     "data": {
      "text/html": [
       "<head><link rel=\"stylesheet\" href=\"style.css\"></head>\n"
      ],
      "text/plain": [
       "<IPython.core.display.HTML object>"
      ]
     },
     "metadata": {},
     "output_type": "display_data"
    }
   ],
   "source": [
    "%%html\n",
    "<head><link rel=\"stylesheet\" href=\"style.css\"></head>"
   ]
  },
  {
   "cell_type": "markdown",
   "metadata": {},
   "source": [
    "This cell imports the packages to be used."
   ]
  },
  {
   "cell_type": "code",
   "execution_count": 100,
   "metadata": {},
   "outputs": [],
   "source": [
    "# Standard packages.\n",
    "import matplotlib\n",
    "import matplotlib.pyplot as plt\n",
    "import numpy as np\n",
    "import sys\n",
    "\n",
    "\n",
    "# Custom packages.\n",
    "from ml import (\n",
    "\tevaluate_model_clas,\n",
    "\tplot_dataset_clas,\n",
    "\tsave_predictions,\n",
    "\tshow_function,\n",
    ")\n",
    "\n",
    "# Initialisations.\n",
    "matplotlib.rc(\"figure\", figsize=(15, 5))\n",
    "sys.dont_write_bytecode = True\n",
    "\n",
    "from sklearn.dummy import DummyClassifier\n",
    "from sklearn.pipeline import Pipeline\n",
    "from sklearn.preprocessing import StandardScaler\n",
    "from sklearn.linear_model import LogisticRegression\n",
    "from sklearn.model_selection import GridSearchCV, StratifiedKFold, RepeatedStratifiedKFold\n",
    "from sklearn.feature_selection import SelectKBest, f_classif, SelectFromModel\n",
    "from sklearn.neighbors import KNeighborsClassifier\n",
    "from sklearn.svm import SVC\n",
    "from sklearn.naive_bayes import GaussianNB\n",
    "from sklearn.tree import DecisionTreeClassifier\n",
    "from sklearn.ensemble import RandomForestClassifier\n",
    "\n"
   ]
  },
  {
   "cell_type": "markdown",
   "id": "61041123",
   "metadata": {},
   "source": [
    "# Supervised Learning Case Study"
   ]
  },
  {
   "cell_type": "markdown",
   "metadata": {},
   "source": [
    "## Introduction"
   ]
  },
  {
   "cell_type": "markdown",
   "metadata": {},
   "source": [
    "This practical assignment is designed as a **Kaggle competition**.\n",
    "\n",
    "Specifically, a **multiclass classification** dataset will be used, so that each team will compete to improve their predictions over an unlabeled partition of the dataset.\n",
    "\n",
    "It is important to remark that **the grades will not depend on the obtained ranking**, but on the different approaches used to tackle the problem, on the design of the experiments and on the analysis of the results."
   ]
  },
  {
   "cell_type": "markdown",
   "metadata": {},
   "source": [
    "## Rubric"
   ]
  },
  {
   "cell_type": "markdown",
   "metadata": {},
   "source": [
    "The following aspects will be taken into account when evaluating the assignment.\n",
    "\n",
    "\n",
    "* Analyse the data.\n",
    "\n",
    "\n",
    "* Preprocess the features automatically using *pipelines*.\n",
    "\n",
    "\n",
    "* Adjust the hyper-parameters with a validation stage.\n",
    "\n",
    "\n",
    "* Try different models to improve the performance, at least:\n",
    "    * (Regularized) Logistic Regression.\n",
    "    * SVC.\n",
    "    * ANNs.\n",
    "\n",
    "\n",
    "* Try interpretable models to check the important features (e.g. Lasso).\n",
    "\n",
    "\n",
    "* Submit the prediction several times (the evolution of the performance will be also considered).\n",
    "\n",
    "\n",
    "* Any other approach that may improve either the performance or interpretability of the model (e.g. feature selection, ensembles...).\n",
    "\n",
    "\n",
    "* Analyse the results obtained after each experiment, and make decisions following the conclusions."
   ]
  },
  {
   "cell_type": "markdown",
   "metadata": {},
   "source": [
    "## Utilities"
   ]
  },
  {
   "cell_type": "markdown",
   "metadata": {},
   "source": [
    "Some utilities are given next as a starting point, but the teams can define any other tools that they may need."
   ]
  },
  {
   "cell_type": "markdown",
   "metadata": {},
   "source": [
    "### Team Number"
   ]
  },
  {
   "cell_type": "markdown",
   "metadata": {},
   "source": [
    "The **number of the team** should be inserted here, so that the file of predictions has the appropriate name."
   ]
  },
  {
   "cell_type": "code",
   "execution_count": 3,
   "metadata": {},
   "outputs": [],
   "source": [
    "################################################################################\n",
    "# The team number should be inserted here:\n",
    "team_number = 3\n",
    "################################################################################"
   ]
  },
  {
   "cell_type": "markdown",
   "metadata": {},
   "source": [
    "### Evaluation of the Model"
   ]
  },
  {
   "cell_type": "markdown",
   "metadata": {},
   "source": [
    "The following function evaluates a multiclass model (already fitted), computing and showing the accuracy and balanced accuracy over both the training and test partitions."
   ]
  },
  {
   "cell_type": "code",
   "execution_count": 4,
   "metadata": {},
   "outputs": [
    {
     "data": {
      "text/markdown": [
       "```python\n",
       "def evaluate_model_clas(model, x_tr, y_tr, x_te, y_te, print_table=True):\n",
       "    y_tr_p = model.predict(x_tr)\n",
       "    y_te_p = model.predict(x_te)\n",
       "\n",
       "    er_tr = [accuracy_score(y_tr, y_tr_p), balanced_accuracy_score(y_tr, y_tr_p)]\n",
       "    er_te = [accuracy_score(y_te, y_te_p), balanced_accuracy_score(y_te, y_te_p)]\n",
       "\n",
       "    ers = [er_tr, er_te]\n",
       "    headers = [\"Acc\", \"Bal. Acc\"]\n",
       "\n",
       "    if print_table:\n",
       "        print(\"{:>15}\".format(\"\"), end=\"\")\n",
       "        for h in headers:\n",
       "            print(\"{:>15}\".format(h), end=\"\")\n",
       "        print(\"\")\n",
       "\n",
       "        headers_col = [\"Train\", \"Test\"]\n",
       "\n",
       "        cnt = 0\n",
       "        for er in ers:\n",
       "            hc = headers_col[cnt]\n",
       "            cnt = cnt + 1\n",
       "            print(\"{:<15}\".format(hc), end=\"\")\n",
       "\n",
       "            for e in er:\n",
       "                print(\"{:15.2f}\".format(e), end=\"\")\n",
       "            print(\"\")\n",
       "\n",
       "    return ers\n",
       "```"
      ],
      "text/plain": [
       "<IPython.core.display.Markdown object>"
      ]
     },
     "metadata": {},
     "output_type": "display_data"
    }
   ],
   "source": [
    "show_function(evaluate_model_clas)"
   ]
  },
  {
   "cell_type": "markdown",
   "metadata": {},
   "source": [
    "### Submission of the Predictions"
   ]
  },
  {
   "cell_type": "markdown",
   "metadata": {},
   "source": [
    "The following function saves the predictions on the **challenge partition** to a file with syntax `Team_TT_YYYYMMDD-HHMMSS.pred`, where `TT` stands for the team number, and `YYYYMMDD-HHMMSS` is a timestamp to distinguish the different submissions of a team."
   ]
  },
  {
   "cell_type": "code",
   "execution_count": 5,
   "metadata": {},
   "outputs": [
    {
     "data": {
      "text/markdown": [
       "```python\n",
       "def save_predictions(y_ch_p, team_number, n_preds=500):\n",
       "    if len(y_ch_p) != n_preds:\n",
       "        print(\n",
       "            \"Error saving the predictions, it should be a vector of %d lables\" % n_preds\n",
       "        )\n",
       "    else:\n",
       "        time_str = time.strftime(\"%Y%m%d-%H%M%S\")\n",
       "        np.savetxt(\"Team_{:02d}_{}.txt\".format(team_number, time_str), y_ch_p, fmt=\"%d\")\n",
       "```"
      ],
      "text/plain": [
       "<IPython.core.display.Markdown object>"
      ]
     },
     "metadata": {},
     "output_type": "display_data"
    }
   ],
   "source": [
    "show_function(save_predictions)"
   ]
  },
  {
   "cell_type": "markdown",
   "metadata": {},
   "source": [
    "Once the prediction file has been generated, it can be uploaded to Moodle.\n",
    "It is important to **avoid renaming the files**."
   ]
  },
  {
   "cell_type": "markdown",
   "metadata": {},
   "source": [
    "## Dataset"
   ]
  },
  {
   "cell_type": "markdown",
   "metadata": {},
   "source": [
    "A real dataset will be tackled in this practical assignment.\n",
    "In particular, the [fetal health](https://www.kaggle.com/andrewmvd/fetal-health-classification) dataset of Kaggle, that aims to classify the fetal health in three classes:\n",
    "1. Normal.\n",
    "2. Suspect.\n",
    "3. Pathological.\n",
    "\n",
    "The input data are a set of $21$ variables extracted from the cardiotocographies (CTGs)."
   ]
  },
  {
   "cell_type": "markdown",
   "metadata": {},
   "source": [
    "### Load of the Dataset"
   ]
  },
  {
   "cell_type": "markdown",
   "metadata": {},
   "source": [
    "This cell loads the data, in particular three partitions:\n",
    "1. A training partition, given by `x_tr` and `y_tr`, to train (and validate) the models.\n",
    "2. A test partition, given by `x_te` and `y_te`, to estimate the performance of the model.\n",
    "3. A challenge partition, given by `x_ch`. The real labels are unknown, and hence the predictions should be submitted to know the real performance of the model."
   ]
  },
  {
   "cell_type": "code",
   "execution_count": 6,
   "metadata": {},
   "outputs": [],
   "source": [
    "prefix = \"./data/fetal_health\"\n",
    "\n",
    "x_tr = np.loadtxt(prefix + \"_tr.dat\")\n",
    "x_te = np.loadtxt(prefix + \"_te.dat\")\n",
    "x_ch = np.loadtxt(prefix + \"_ch.dat\")\n",
    "\n",
    "y_tr = np.loadtxt(prefix + \"_tr.lab\")\n",
    "y_te = np.loadtxt(prefix + \"_te.lab\")\n",
    "\n",
    "features = [line.rstrip(\"\\n\") for line in open(\"./data/fetal_health.head\")]\n",
    "n_features = len(features)"
   ]
  },
  {
   "cell_type": "markdown",
   "metadata": {},
   "source": [
    "### Initial Analysis"
   ]
  },
  {
   "cell_type": "markdown",
   "metadata": {},
   "source": [
    "Plot of the data over the first two features."
   ]
  },
  {
   "cell_type": "code",
   "execution_count": 7,
   "metadata": {},
   "outputs": [
    {
     "data": {
      "image/png": "[encoded data removed]",
      "text/plain": [
       "<Figure size 1500x500 with 1 Axes>"
      ]
     },
     "metadata": {},
     "output_type": "display_data"
    }
   ],
   "source": [
    "y_tr_binary = y_tr.copy()\n",
    "y_tr_binary[y_tr == 3] = 2\n",
    "plot_dataset_clas(x_tr, y_tr_binary)\n",
    "plt.xlabel(features[0])\n",
    "plt.ylabel(features[1])\n",
    "plt.legend([\"Normal\", \"Suspect/Pathological\"])\n",
    "plt.axis(\"auto\")\n",
    "plt.show()"
   ]
  },
  {
   "cell_type": "markdown",
   "metadata": {},
   "source": [
    "Al representar los datos en base a los dos primeros atributos (light decelerations y abnormal short term variability), podemos ver que no hay una separación clara entre clases, y lo mismo sucede si representamos los datos en base a otros dos atributos cualquiera. \n",
    "\n",
    "Si trazásemos una línea horizontal en torno a, por ejemplo, y = 50, y consideráramos que a cada lado de la línea tenemos una clase, nos estaríamos equivocando en muchos casos. Por tanto, puede que un modelo lineal no sea la mejor solución para resolver este problema de clasificación (aunque eso lo comprobaremos más adelante)."
   ]
  },
  {
   "cell_type": "markdown",
   "metadata": {},
   "source": [
    "Balance of the dataset."
   ]
  },
  {
   "cell_type": "code",
   "execution_count": 8,
   "metadata": {},
   "outputs": [
    {
     "name": "stdout",
     "output_type": "stream",
     "text": [
      "Class 1.0: 877 samples (77.89%)\n",
      "Class 2.0: 156 samples (13.85%)\n",
      "Class 3.0:  93 samples ( 8.26%)\n"
     ]
    }
   ],
   "source": [
    "for lab in np.unique(y_tr):\n",
    "    n_sam = np.sum(y_tr == lab)\n",
    "    print(\n",
    "        \"Class {}: {:3d} samples ({:5.2f}%)\".format(\n",
    "            lab, n_sam, 100.0 * n_sam / len(y_tr)\n",
    "        )\n",
    "    )"
   ]
  },
  {
   "cell_type": "markdown",
   "metadata": {},
   "source": [
    "Con este análisis, lo primero que vemos es que las clases no están balanceadas. Por tanto, fijarnos únicamente en el valor de accuracy no tiene sentido, ya que en este caso se trata de una medida engañosa. Por ejemplo, si la clase mayoritaria constituye casi un 80% de los datos, un modelo que siempre predice la clase mayoritaria tendrá una precisión de casi 0.8, a pesar de no estar aprendiendo nada acerca del conjunto de datos. \n",
    "\n",
    "Por eso, debemos prestarle más atención al valor de balanced accuracy, que se calcula dándole la misma importancia a todas las clases.\n",
    "\n",
    "Esto que acabamos de comentar se pone de manifiesto al utilizar el clasificador DummyClasifier, utilizando la estrategia de predecir la clase más frecuente: "
   ]
  },
  {
   "cell_type": "code",
   "execution_count": 9,
   "metadata": {},
   "outputs": [
    {
     "name": "stdout",
     "output_type": "stream",
     "text": [
      "                           Acc       Bal. Acc\n",
      "Train                     0.78           0.33\n",
      "Test                      0.78           0.33\n"
     ]
    }
   ],
   "source": [
    "dummy_clf = DummyClassifier(strategy=\"most_frequent\")\n",
    "dummy_clf.fit(x_tr, y_tr)\n",
    "_ = evaluate_model_clas(dummy_clf, x_tr, y_tr, x_te, y_te)"
   ]
  },
  {
   "cell_type": "markdown",
   "metadata": {},
   "source": [
    "Al calcular la balanced accuracy, se ve claramente que, a pesar de tener una precisión 0.78, solo se está prediciendo correctamente una de las clases."
   ]
  },
  {
   "cell_type": "code",
   "execution_count": 10,
   "metadata": {},
   "outputs": [],
   "source": [
    "y_ch = dummy_clf.predict(x_ch)\n",
    "# save_predictions(y_ch, 3)"
   ]
  },
  {
   "cell_type": "markdown",
   "metadata": {},
   "source": [
    "Necesitamos, por tanto, recurrir a clasificadores más sofisticados:"
   ]
  },
  {
   "cell_type": "markdown",
   "metadata": {},
   "source": [
    "## Regresión logística\n",
    "\n",
    "A diferencia de la regresión lineal (que predice un número), la regresión logística predice la probabilidad de que una observación pertenezca a una clase.\n",
    "\n",
    "Como en la regresión lineal, primero calcula una combinación lineal de las variables de entrada. Para convertir dicha combinación en una probabilidad, se pasa por la función logística o sigmoide. Esta función devuelve un valor entre 0 y 1, interpretado como la probabilidad de que la observación pertenezca a una clase. En un problema de clasificación binaria, si la probabilidad es igual o mayor de 0.5, asignamos la observación a dicha clase, y, si es menor de 0.5, la asignamos a la otra. \n",
    "\n",
    "Este método también se puede aplicar problemas de clasificación multiclase, con algunas modificaciones.\n",
    "\n",
    "En general, la regresión logística funciona bien si las clases son linealmente separables. Además, permite regularización (L1 - Lasso, L2 - Ridge) para evitar sobreajuste."
   ]
  },
  {
   "cell_type": "markdown",
   "metadata": {},
   "source": [
    "Puesto que tanto éste como los siguientes clasificadores tienen en cuenta el input para realizar predicciones, es necesario que nuestros datos estén normalizados. Por tanto, antes de realizar el ajuste del modelo, añadiremos siempre un paso de preprocesamiento con StandardScaler de Scikit-learn, en el que transformamos los datos para que éstos tengan una media de 0 y una desviación estándar de 1. "
   ]
  },
  {
   "cell_type": "code",
   "execution_count": 11,
   "metadata": {},
   "outputs": [
    {
     "name": "stdout",
     "output_type": "stream",
     "text": [
      "                           Acc       Bal. Acc\n",
      "Train                     0.91           0.82\n",
      "Test                      0.90           0.79\n"
     ]
    }
   ],
   "source": [
    "pipeline = Pipeline([\n",
    "    ('scaler', StandardScaler()),\n",
    "    ('clf', LogisticRegression())\n",
    "])\n",
    "pipeline.fit(x_tr, y_tr)\n",
    "_ = evaluate_model_clas(pipeline, x_tr, y_tr, x_te, y_te)\n"
   ]
  },
  {
   "cell_type": "markdown",
   "metadata": {},
   "source": [
    "La precisión de la predicción mejora considerablemente en comparación con DummyClassifier. No obstante, como ya anticipábamos al hacer un análisis rápido de los datos, al establecer una frontera de decisión lineal cometemos algunos errores de predicción (hay observaciones que son clasificadas erróneamente). "
   ]
  },
  {
   "cell_type": "code",
   "execution_count": 12,
   "metadata": {},
   "outputs": [],
   "source": [
    "y_ch = pipeline.predict(x_ch)\n",
    "# save_predictions(y_ch, 3)"
   ]
  },
  {
   "cell_type": "markdown",
   "metadata": {},
   "source": [
    "Como comentábamos antes, con la regresión logística estamos asumiendo que entre las distintas variables existe una relación lineal. Sin embargo, es posible que no sea así. \n",
    "\n",
    "Con PolynomialFeatures (también de scikit-learn), podemos transformar las variables originales en una expansión polinómica de ellas, lo que nos permite capturar relaciones no lineales.\n",
    "\n",
    "A continuación, repetiremos el proceso anterior añadiendo un paso de preprocesado con PolynomialFeatures, utilizando GridSearchCV para determinar el grado del polinomio más adecuado para capturar relaciones complejas entre las variables, a ver si así conseguimos mejorar la capacidad predictiva del modelo."
   ]
  },
  {
   "cell_type": "code",
   "execution_count": 52,
   "metadata": {},
   "outputs": [
    {
     "name": "stdout",
     "output_type": "stream",
     "text": [
      "Mejor grado de polinomio: 2\n",
      "                           Acc       Bal. Acc\n",
      "Train                     0.97           0.94\n",
      "Test                      0.89           0.76\n"
     ]
    }
   ],
   "source": [
    "from sklearn.preprocessing import PolynomialFeatures\n",
    "\n",
    "pipeline = Pipeline([\n",
    "    ('poly', PolynomialFeatures(include_bias=False)),\n",
    "    ('scaler', StandardScaler()),\n",
    "    ('clf', LogisticRegression(max_iter=1000))\n",
    "])\n",
    "\n",
    "param_grid = {\n",
    "    'poly__degree': [1, 2, 3, 4]\n",
    "}\n",
    "\n",
    "cv = StratifiedKFold(n_splits=5, shuffle=True, random_state=0)\n",
    "\n",
    "grid = GridSearchCV(pipeline, param_grid, cv=cv, scoring='balanced_accuracy', n_jobs=-1)\n",
    "\n",
    "grid.fit(x_tr, y_tr)\n",
    "\n",
    "print(\"Mejor grado de polinomio:\", grid.best_params_['poly__degree'])\n",
    "\n",
    "_ = evaluate_model_clas(grid.best_estimator_, x_tr, y_tr, x_te, y_te)\n"
   ]
  },
  {
   "cell_type": "markdown",
   "metadata": {},
   "source": [
    "Aquí vemos cómo al introducir interacciones y términos cuadráticos (polinomio de grado 2), conseguimos ajustarnos mejor a los datos de entrenamiento. Sin embargo, la balanced accuracy para el conjunto de prueba es significativamente menor (de hecho, es menor que cuando asumíamos una relación lineal entre variables). Esto se debe a que, al utilizar un modelo más complejo, se está produciendo sobreajuste, y, por tanto, estamos perdiendo capacidad de generalización.\n",
    "\n",
    "Descartamos esta estrategia, y procedemos a ajustar modelos de regresión logística aplicando distintos tipos de regularización."
   ]
  },
  {
   "cell_type": "markdown",
   "metadata": {},
   "source": [
    "Con la regularización, lo que hacemos es penalizar la complejidad, de forma que nos permite obtener modelos robustos con menor riesgo de sobreajuste.\n",
    "\n",
    "Existen varios tipos de regularización, entre los que destacan l2 y l1:\n",
    "\n",
    "- Con l2, los coeficientes del modelo se llevan tan cerca de 0 como sea posible, sin que ninguno de ellos llegue a valer exactamente 0. \n",
    "\n",
    "- Con l1, los coeficientes del modelo se llevan tan cerca de 0 como sea posible y, además, sí que pueden valer 0. Con l1, por lo tanto, podemos ignorar características redundantes o irrelevantes, obteniendo modelos aún más sencillos. \n",
    "\n",
    "A continuación probaremos la regresión Ridge, que se basa en l2; la regresión Lasso, que se basa en l1; y Elastic Net, que es una combinación de los anteriores."
   ]
  },
  {
   "cell_type": "markdown",
   "metadata": {},
   "source": [
    "## Regresión Ridge"
   ]
  },
  {
   "cell_type": "code",
   "execution_count": 14,
   "metadata": {},
   "outputs": [
    {
     "name": "stdout",
     "output_type": "stream",
     "text": [
      "                           Acc       Bal. Acc\n",
      "Train                     0.91           0.82\n",
      "Test                      0.90           0.79\n"
     ]
    }
   ],
   "source": [
    "pipeline = Pipeline([\n",
    "    ('scaler', StandardScaler()),\n",
    "    ('clf', LogisticRegression(penalty=\"l2\"))\n",
    "])\n",
    "pipeline.fit(x_tr, y_tr)\n",
    "_ = evaluate_model_clas(pipeline, x_tr, y_tr, x_te, y_te)"
   ]
  },
  {
   "cell_type": "code",
   "execution_count": 15,
   "metadata": {},
   "outputs": [],
   "source": [
    "y_ch = pipeline.predict(x_ch)\n",
    "# save_predictions(y_ch, 3)"
   ]
  },
  {
   "cell_type": "markdown",
   "metadata": {},
   "source": [
    "Al utilizar el modelo de regresión Ridge, obtenemos el mismo resultado que al utilizar el modelo de regresión lineal. Esto se debe a que antes, por defecto, ya estábamos aplicando la regularización l2."
   ]
  },
  {
   "cell_type": "markdown",
   "metadata": {},
   "source": [
    "## Regresión Lasso"
   ]
  },
  {
   "cell_type": "code",
   "execution_count": 16,
   "metadata": {},
   "outputs": [
    {
     "name": "stdout",
     "output_type": "stream",
     "text": [
      "                           Acc       Bal. Acc\n",
      "Train                     0.92           0.82\n",
      "Test                      0.90           0.80\n"
     ]
    }
   ],
   "source": [
    "pipeline = Pipeline([\n",
    "    ('scaler', StandardScaler()),\n",
    "    ('clf', LogisticRegression(penalty=\"l1\", solver=\"saga\", max_iter=2000))\n",
    "])\n",
    "pipeline.fit(x_tr, y_tr)\n",
    "_ = evaluate_model_clas(pipeline, x_tr, y_tr, x_te, y_te)"
   ]
  },
  {
   "cell_type": "markdown",
   "metadata": {},
   "source": [
    "Con la regresión Lasso, la balanced accuracy en el conjunto de prueba aumenta ligeramente con respecto a la regresión Ridge, aunque no mucho. Esto significa que el poder deshacernos de características redundantes o irrelevantes no supone ninguna ventaja en este caso: todos los atributos parecen ser importantes.\n",
    "\n",
    "Podemos ver qué características se están teniendo en cuenta con el siguiente bloque de código:"
   ]
  },
  {
   "cell_type": "code",
   "execution_count": 17,
   "metadata": {},
   "outputs": [
    {
     "name": "stdout",
     "output_type": "stream",
     "text": [
      "Índices de características seleccionadas (coef ≠ 0 en alguna clase):\n",
      "[ 0  1  2  3  4  5  6  7  8  9 10 11 12 13 14 17 18 19 20]\n"
     ]
    }
   ],
   "source": [
    "clf = pipeline.named_steps['clf']\n",
    "\n",
    "# Obtenemos la matriz con los coeficientes (n_clases, n_atributos)\n",
    "coef = clf.coef_\n",
    "\n",
    "# Seleccionamos aquellos atributos con coeficientes distintos de 0 en alguna clase\n",
    "selected_indices = np.where(np.any(coef != 0, axis=0))[0]\n",
    "\n",
    "print(\"Índices de características seleccionadas (coef ≠ 0 en alguna clase):\")\n",
    "print(selected_indices)\n",
    "\n"
   ]
  },
  {
   "cell_type": "markdown",
   "metadata": {},
   "source": [
    "Como suponíamos, todas las características son importantes para realizar la clasificación."
   ]
  },
  {
   "cell_type": "code",
   "execution_count": 18,
   "metadata": {},
   "outputs": [],
   "source": [
    "y_ch = pipeline.predict(x_ch)\n",
    "# save_predictions(y_ch, 3)"
   ]
  },
  {
   "cell_type": "markdown",
   "metadata": {},
   "source": [
    "## Elastic Net"
   ]
  },
  {
   "cell_type": "markdown",
   "metadata": {},
   "source": [
    "El siguiente paso es probar Elastic Net, utilizando GridSearchCV para encontrar el mejor valor de l1_ratio (l1_ratio = 0 significa que solo estamos usando Ridge, mientras que l1_ratio = 1 significa que solo estamos usando Lasso):"
   ]
  },
  {
   "cell_type": "code",
   "execution_count": 53,
   "metadata": {},
   "outputs": [
    {
     "name": "stdout",
     "output_type": "stream",
     "text": [
      "                           Acc       Bal. Acc\n",
      "Train                     0.92           0.82\n",
      "Test                      0.90           0.79\n",
      "Mejor l1_ratio encontrado: 0.5\n"
     ]
    }
   ],
   "source": [
    "pipeline = Pipeline([\n",
    "    ('scaler', StandardScaler()),\n",
    "    ('clf', LogisticRegression(penalty=\"elasticnet\", solver=\"saga\", max_iter=2000))\n",
    "])\n",
    "\n",
    "param_grid = {\n",
    "    'clf__l1_ratio': [0.0, 0.25, 0.5, 0.75, 1.0]\n",
    "}\n",
    "\n",
    "cv = StratifiedKFold(n_splits=5, shuffle=True, random_state=0)\n",
    "\n",
    "grid = GridSearchCV(pipeline, param_grid, cv=cv, scoring='balanced_accuracy')\n",
    "grid.fit(x_tr, y_tr)\n",
    "\n",
    "_ = evaluate_model_clas(grid.best_estimator_, x_tr, y_tr, x_te, y_te)\n",
    "\n",
    "print(\"Mejor l1_ratio encontrado:\", grid.best_params_['clf__l1_ratio'])\n"
   ]
  },
  {
   "cell_type": "markdown",
   "metadata": {},
   "source": [
    "La combinación de ambos tipos de regularización tampoco parece ofrecer ninguna ventaja."
   ]
  },
  {
   "cell_type": "markdown",
   "metadata": {},
   "source": [
    "## Selección de atributos con SelectKBest"
   ]
  },
  {
   "cell_type": "markdown",
   "metadata": {},
   "source": [
    "Otra forma de seleccionar los atributos relevantes sin tener que recurrir a Lasso es SelectKBest. A continuación, volveremos a probar los 4 modelos anteriores realizando la selección de esta otra forma.\n",
    "\n",
    "Empezamos con la regresión logística, eligiendo un número aleatorio de atributos (10) para ver si se produce alguna mejora:"
   ]
  },
  {
   "cell_type": "code",
   "execution_count": 20,
   "metadata": {},
   "outputs": [
    {
     "name": "stdout",
     "output_type": "stream",
     "text": [
      "                           Acc       Bal. Acc\n",
      "Train                     0.89           0.78\n",
      "Test                      0.88           0.73\n"
     ]
    }
   ],
   "source": [
    "pipeline = Pipeline([\n",
    "    ('scaler', StandardScaler()),\n",
    "    ('select', SelectKBest(k=10)),\n",
    "    ('clf', LogisticRegression())\n",
    "])\n",
    "pipeline.fit(x_tr, y_tr)\n",
    "_ = evaluate_model_clas(pipeline, x_tr, y_tr, x_te, y_te)"
   ]
  },
  {
   "cell_type": "code",
   "execution_count": 21,
   "metadata": {},
   "outputs": [],
   "source": [
    "y_ch = pipeline.predict(x_ch)\n",
    "# save_predictions(y_ch, 3)"
   ]
  },
  {
   "cell_type": "markdown",
   "metadata": {},
   "source": [
    "10 no parece ser un número de atributos adecuado, por lo que recurrimos nuevamente a GridSearchCV:"
   ]
  },
  {
   "cell_type": "code",
   "execution_count": 55,
   "metadata": {},
   "outputs": [
    {
     "name": "stdout",
     "output_type": "stream",
     "text": [
      "Mejor número de atributos:  21\n",
      "                           Acc       Bal. Acc\n",
      "Train                     0.91           0.82\n",
      "Test                      0.90           0.79\n"
     ]
    }
   ],
   "source": [
    "pipeline = Pipeline([\n",
    "    ('scaler', StandardScaler()),\n",
    "    ('select', SelectKBest(score_func=f_classif)),\n",
    "    ('clf', LogisticRegression())\n",
    "])\n",
    "\n",
    "param_grid = {'select__k':np.linspace(1, n_features,2).astype(int),}\n",
    "\n",
    "cv = StratifiedKFold(n_splits=5, shuffle=True, random_state=0)\n",
    "\n",
    "grid = GridSearchCV(pipeline, param_grid, cv=cv, scoring='balanced_accuracy')\n",
    "grid.fit(x_tr, y_tr)\n",
    "\n",
    "best_k = grid.best_params_['select__k']\n",
    "print(\"Mejor número de atributos: \", int(best_k))\n",
    "\n",
    "_ = evaluate_model_clas(grid, x_tr, y_tr, x_te, y_te)"
   ]
  },
  {
   "cell_type": "code",
   "execution_count": null,
   "metadata": {},
   "outputs": [],
   "source": [
    "y_ch = pipeline.predict(x_ch)\n",
    "# save_predictions(y_ch, 3)"
   ]
  },
  {
   "cell_type": "markdown",
   "metadata": {},
   "source": [
    "Nuevamente, el mejor número de características posible es el máximo. Lo mismo sucede si en lugar de regresión logística empleamos regresión Ridge:"
   ]
  },
  {
   "cell_type": "code",
   "execution_count": 56,
   "metadata": {},
   "outputs": [
    {
     "name": "stdout",
     "output_type": "stream",
     "text": [
      "Mejor número de atributos:  21\n",
      "                           Acc       Bal. Acc\n",
      "Train                     0.91           0.82\n",
      "Test                      0.90           0.79\n"
     ]
    }
   ],
   "source": [
    "pipeline = Pipeline([\n",
    "    ('scaler', StandardScaler()),\n",
    "    ('select', SelectKBest(score_func=f_classif)),\n",
    "    ('clf', LogisticRegression(penalty=\"l2\"))\n",
    "])\n",
    "\n",
    "param_grid = {'select__k':np.linspace(1, n_features,2).astype(int),}\n",
    "\n",
    "cv = StratifiedKFold(n_splits=5, shuffle=True, random_state=0)\n",
    "\n",
    "grid = GridSearchCV(pipeline, param_grid, cv=5, scoring='balanced_accuracy')\n",
    "grid.fit(x_tr, y_tr)\n",
    "\n",
    "best_k = grid.best_params_['select__k']\n",
    "print(\"Mejor número de atributos: \", int(best_k))\n",
    "\n",
    "_ = evaluate_model_clas(grid, x_tr, y_tr, x_te, y_te)"
   ]
  },
  {
   "cell_type": "code",
   "execution_count": 24,
   "metadata": {},
   "outputs": [],
   "source": [
    "y_ch = grid.predict(x_ch)\n",
    "# save_predictions(y_ch, 3)"
   ]
  },
  {
   "cell_type": "markdown",
   "metadata": {},
   "source": [
    "Puesto que no conseguimos mejorar la balanced accuracy de ninguna forma, procedemos a utilizar otros clasificadores."
   ]
  },
  {
   "cell_type": "markdown",
   "metadata": {},
   "source": [
    "## Support Vector Classifier\n",
    "\n",
    "El objetivo de este clasificador es encontrar el hiperplano que mejor separa las clases en el espacio de características, maximizando el margen entre las observaciones de distintas clases.\n",
    "\n",
    "Cuando los datos originales no son linealmente separables, este clasificador usa el truco del kernel para llevarlos a un espacio de mayor dimensión donde sí lo son. Los kernels más utilizados son: 'linear' (no hay transformación), 'polynomial', 'rbf' (gaussiano) y 'sigmoid'.\n",
    "\n",
    "El parámetro C nos permite definir la tolerancia del modelo al error, que son los puntos mal clasificados o dentro del margen. Cuanto más elevado es el valor de C, menor es la tolerancia al error, lo que puede resultar en sobreajuste. Por el contrario, cuanto más bajo es el valor de C, más permisivo será nuestro modelo y, por lo tanto, más general.\n",
    "\n",
    "A parte del kernel y el valor de C, SVC cuenta con otros hiperparámetros que debemos optimizar para obtener el mejor resultado posible:\n",
    "\n",
    "- Degree (si el kernel es 'poly'): grado del polinomio.\n",
    "\n",
    "- Gamma (si el kernel es 'poly', 'rbf' o 'sigmoid'): cuánta influencia tiene un solo punto de entrenamiento en la forma de la frontera de decisión. Si el valor de gamma es bajo, obtendremos una frontera de decisión más suave, lo que resulta en un modelo más general. Si el valor de gamma es alto, obtendremos una frontera de decisión más compleja, lo que resulta en un mayor riesgo de sobreajuste.\n",
    "\n",
    "La optimización de todos estos hiperparámetros la realizaremos utilizando GridSearchCV, como en los casos anteriores."
   ]
  },
  {
   "cell_type": "code",
   "execution_count": 84,
   "metadata": {},
   "outputs": [
    {
     "name": "stdout",
     "output_type": "stream",
     "text": [
      "Mejores parámetros:  {'clf__C': 100, 'clf__degree': 2, 'clf__gamma': 'scale', 'clf__kernel': 'rbf'}\n",
      "                           Acc       Bal. Acc\n",
      "Train                     0.99           0.98\n",
      "Test                      0.92           0.84\n"
     ]
    }
   ],
   "source": [
    "pipeline = Pipeline([\n",
    "    ('scaler', StandardScaler()),\n",
    "    ('clf', SVC())\n",
    "])\n",
    "\n",
    "param_grid = {\n",
    "    'clf__kernel': ['linear', 'rbf', 'poly', 'sigmoid'],\n",
    "    'clf__C': [0.1, 1, 10, 100],\n",
    "    'clf__gamma': ['scale', 0.01, 0.1, 1, 10],\n",
    "    'clf__degree': [2, 3, 4]\n",
    "}\n",
    "\n",
    "cv = StratifiedKFold(n_splits=5, shuffle=True, random_state=0)\n",
    "\n",
    "grid = GridSearchCV(pipeline, param_grid, cv=cv, scoring='balanced_accuracy', n_jobs=-1)\n",
    "grid.fit(x_tr, y_tr)\n",
    "\n",
    "print(\"Mejores parámetros: \", grid.best_params_)\n",
    "\n",
    "_ = evaluate_model_clas(grid, x_tr, y_tr, x_te, y_te)"
   ]
  },
  {
   "cell_type": "code",
   "execution_count": null,
   "metadata": {},
   "outputs": [],
   "source": [
    "y_ch = grid.predict(x_ch)\n",
    "# save_predictions(y_ch, 3)"
   ]
  },
  {
   "cell_type": "markdown",
   "metadata": {},
   "source": [
    "Puesto que nuestras clases están desbalanceadas, probamos a repetir el proceso con class_weight='balanced', que penaliza más los errores en las clases minoritarias para evitar un sesgo hacia la clase mayoritaria."
   ]
  },
  {
   "cell_type": "code",
   "execution_count": 85,
   "metadata": {},
   "outputs": [
    {
     "name": "stdout",
     "output_type": "stream",
     "text": [
      "Mejores parámetros:  {'clf__C': 1, 'clf__degree': 3, 'clf__gamma': 0.1, 'clf__kernel': 'poly'}\n",
      "                           Acc       Bal. Acc\n",
      "Train                     0.95           0.97\n",
      "Test                      0.91           0.87\n"
     ]
    }
   ],
   "source": [
    "pipeline = Pipeline([\n",
    "    ('scaler', StandardScaler()),\n",
    "    ('clf', SVC(class_weight='balanced'))\n",
    "])\n",
    "\n",
    "param_grid = {\n",
    "    'clf__kernel': ['linear', 'rbf', 'poly', 'sigmoid'],\n",
    "    'clf__C': [0.1, 1, 10, 100],\n",
    "    'clf__gamma': ['scale', 0.01, 0.1, 1, 10],\n",
    "    'clf__degree': [2, 3, 4]\n",
    "}\n",
    "\n",
    "cv = StratifiedKFold(n_splits=5, shuffle=True, random_state=0)\n",
    "\n",
    "grid = GridSearchCV(pipeline, param_grid, cv=cv, scoring='balanced_accuracy', n_jobs=-1)\n",
    "grid.fit(x_tr, y_tr)\n",
    "\n",
    "print(\"Mejores parámetros: \", grid.best_params_)\n",
    "\n",
    "_ = evaluate_model_clas(grid, x_tr, y_tr, x_te, y_te)\n"
   ]
  },
  {
   "cell_type": "markdown",
   "metadata": {},
   "source": [
    "Al introducir esta pequeña modificación, la balanced accuracy en el conjunto de prueba aumenta. Además, parece que los hiperparámetros que mejor funcionan son el kernel 'poly', C = 1, degree = 3 (polinomio de grado 3) y gamma = 0.1."
   ]
  },
  {
   "cell_type": "code",
   "execution_count": null,
   "metadata": {},
   "outputs": [],
   "source": [
    "y_ch = grid.predict(x_ch)\n",
    "# save_predictions(y_ch, 3)"
   ]
  },
  {
   "cell_type": "markdown",
   "metadata": {},
   "source": [
    "Para asegurarnos de que la selección de hiperparámetros no se está viendo afectada por el ruido y que es estable y confiable, repetiremos el proceso una vez más. En este caso, lo que haremos serán múltiples evaluaciones con RepeatedStratifiedKFold:"
   ]
  },
  {
   "cell_type": "code",
   "execution_count": 88,
   "metadata": {},
   "outputs": [
    {
     "name": "stdout",
     "output_type": "stream",
     "text": [
      "Mejores parámetros:  {'clf__C': 10, 'clf__degree': 2, 'clf__gamma': 'scale', 'clf__kernel': 'rbf'}\n",
      "                           Acc       Bal. Acc\n",
      "Train                     0.95           0.97\n",
      "Test                      0.90           0.89\n"
     ]
    }
   ],
   "source": [
    "pipeline = Pipeline([\n",
    "    ('scaler', StandardScaler()),\n",
    "    ('clf', SVC(class_weight='balanced'))\n",
    "])\n",
    "\n",
    "param_grid = {\n",
    "    'clf__kernel': ['linear', 'rbf', 'poly', 'sigmoid'],\n",
    "    'clf__C': [0.1, 1, 10, 100],\n",
    "    'clf__gamma': ['scale', 0.01, 0.1, 1, 10],\n",
    "    'clf__degree': [2, 3, 4]\n",
    "}\n",
    "\n",
    "cv = RepeatedStratifiedKFold(n_splits=5, n_repeats=10, random_state=0)\n",
    "\n",
    "grid = GridSearchCV(pipeline, param_grid, cv=cv, scoring='balanced_accuracy', n_jobs=-1)\n",
    "grid.fit(x_tr, y_tr)\n",
    "\n",
    "print(\"Mejores parámetros: \", grid.best_params_)\n",
    "\n",
    "_ = evaluate_model_clas(grid, x_tr, y_tr, x_te, y_te)"
   ]
  },
  {
   "cell_type": "markdown",
   "metadata": {},
   "source": [
    "Al hacer esto, nos sale que el kernel que mejor funciona es 'rbf' (igual que al principio), con los hiperparámetros C = 10 y gamma = 'scale'. Obtenemos un valor de balanced accuracy en el conjunto de prueba de 0.89, que es el más alto hasta ahora, por lo que utilizar RepeatedStratifiedKFold ha sido una buena idea. \n",
    "\n",
    "Ahora procederemos a probar los modelos estudiados en partes anteriores de la asignatura, a ver si podemos mejorar el valor de balanced accuracy obtenido."
   ]
  },
  {
   "cell_type": "code",
   "execution_count": null,
   "metadata": {},
   "outputs": [],
   "source": [
    "y_ch = pipeline.predict(x_ch)\n",
    "# save_predictions(y_ch, 3)"
   ]
  },
  {
   "cell_type": "markdown",
   "metadata": {},
   "source": [
    "## Naive Bayes\n",
    "\n",
    "Este clasificador calcula la probabilidad de cada clase usando la regla de Bayes, y luego asigna la clase con mayor probabilidad.\n",
    "\n",
    "El problema de este clasificador es que asume independencia entre las diferentes características, por lo que no funciona muy bien cuando los atributos están relacionados entre sí. "
   ]
  },
  {
   "cell_type": "code",
   "execution_count": 66,
   "metadata": {},
   "outputs": [
    {
     "name": "stdout",
     "output_type": "stream",
     "text": [
      "                           Acc       Bal. Acc\n",
      "Train                     0.79           0.50\n",
      "Test                      0.79           0.49\n"
     ]
    }
   ],
   "source": [
    "pipeline = Pipeline([\n",
    "    ('scaler', StandardScaler()),\n",
    "    ('clf', GaussianNB())\n",
    "])\n",
    "pipeline.fit(x_tr, y_tr)\n",
    "_ = evaluate_model_clas(grid, x_tr, y_tr, x_te, y_te)"
   ]
  },
  {
   "cell_type": "markdown",
   "metadata": {},
   "source": [
    "La balanced accuracy de este modelo es muy baja, lo que nos hace pensar que las características están relacionadas."
   ]
  },
  {
   "cell_type": "code",
   "execution_count": 27,
   "metadata": {},
   "outputs": [],
   "source": [
    "y_ch = grid.predict(x_ch)\n",
    "# save_predictions(y_ch, 3)"
   ]
  },
  {
   "cell_type": "markdown",
   "metadata": {},
   "source": [
    "Ahora probaremos clasificadores que no asumen independencia entre características: "
   ]
  },
  {
   "cell_type": "markdown",
   "metadata": {},
   "source": [
    "## Árboles de decisión"
   ]
  },
  {
   "cell_type": "markdown",
   "metadata": {},
   "source": [
    "Este clasificador va separando los datos en función de sus valores para las diferentes caracterísiticas, al igual que el tronco de un árbol de divide en ramas. Después, asigna a cada observación una clase en función del camino que siguió en el árbol.\n",
    "\n",
    "El proceso es el siguiente: \n",
    "\n",
    "1) El algoritmo busca la característica y el punto de corte que mejor separan los datos. Para determinar cómo de bien se separan los datos, emplea criterios como 'gini' o 'entropy'. \n",
    "\n",
    "2) El conjunto de datos se divide en dos (o más) grupos según esa característica.\n",
    "\n",
    "3) El proceso se repite de manera recursiva hasta que se cumpla una condición de parada, como puede ser que todas las muestras del grupo pertenezcan a la misma clase, que el número de muestras por nodo sea demasiado bajo o que hayamos alcanzado la profundidad máxima del árbol.\n",
    "\n",
    "Además del criterio para medir la calidad de división y la condición de parada, este clasificador cuenta con una gran variedad de hiperparámetros, que optimizaremos, como siempre, usando GridSearchCV."
   ]
  },
  {
   "cell_type": "code",
   "execution_count": null,
   "metadata": {},
   "outputs": [
    {
     "name": "stdout",
     "output_type": "stream",
     "text": [
      "Mejores parámetros:  {'clf__criterion': 'gini', 'clf__max_depth': None, 'clf__max_features': None, 'clf__max_leaf_nodes': 10}\n",
      "                           Acc       Bal. Acc\n",
      "Train                     0.85           0.91\n",
      "Test                      0.86           0.90\n"
     ]
    }
   ],
   "source": [
    "pipeline = Pipeline([\n",
    "    ('scaler', StandardScaler()),\n",
    "    ('clf', DecisionTreeClassifier(class_weight='balanced', random_state=0))\n",
    "])\n",
    "\n",
    "param_grid = {'clf__criterion': ['gini', 'entropy', 'log_loss'],\n",
    "              'clf__max_depth': [None, 5, 10, 20, 30],\n",
    "              'clf__max_features': [None, 'sqrt', 'log2'], # Número máximo de características consideradas por división\n",
    "              'clf__max_leaf_nodes': [None, 10, 20, 50, 100] # Número máximo de de hojas en el árbol\n",
    "}\n",
    "\n",
    "cv = StratifiedKFold(n_splits=5, shuffle=True, random_state=0)\n",
    "\n",
    "grid = GridSearchCV(pipeline, param_grid, cv=cv, scoring='balanced_accuracy')\n",
    "grid.fit(x_tr, y_tr)\n",
    "\n",
    "print(\"Mejores parámetros: \", grid.best_params_)\n",
    "\n",
    "_ = evaluate_model_clas(grid, x_tr, y_tr, x_te, y_te)"
   ]
  },
  {
   "cell_type": "markdown",
   "metadata": {},
   "source": [
    "Obtenemos un valor de balanced accuracy igual de bueno que con SVC, a pesar de que este clasificador funciona de forma completamente distinta. Al igual que en el caso anterior, para asegurarnos de que la selección de hiperparámetros es estable y confiable, repetimos el proceso utilizando RepeatedStratifiedKFold."
   ]
  },
  {
   "cell_type": "code",
   "execution_count": 99,
   "metadata": {},
   "outputs": [
    {
     "name": "stdout",
     "output_type": "stream",
     "text": [
      "Mejores parámetros:  {'clf__criterion': 'entropy', 'clf__max_depth': None, 'clf__max_features': None, 'clf__max_leaf_nodes': 20}\n",
      "                           Acc       Bal. Acc\n",
      "Train                     0.90           0.95\n",
      "Test                      0.86           0.89\n"
     ]
    }
   ],
   "source": [
    "pipeline = Pipeline([\n",
    "    ('scaler', StandardScaler()),\n",
    "    ('clf', DecisionTreeClassifier(class_weight='balanced', random_state=0))\n",
    "])\n",
    "\n",
    "param_grid = {'clf__criterion': ['gini', 'entropy', 'log_loss'],\n",
    "              'clf__max_depth': [None, 5, 10, 20, 30],\n",
    "              'clf__max_features': [None, 'sqrt', 'log2'],\n",
    "              'clf__max_leaf_nodes': [None, 10, 20, 50, 100]\n",
    "}\n",
    "\n",
    "cv = RepeatedStratifiedKFold(n_splits=5, n_repeats=20, random_state=0)\n",
    "\n",
    "grid = GridSearchCV(pipeline, param_grid, cv=cv, scoring='balanced_accuracy')\n",
    "grid.fit(x_tr, y_tr)\n",
    "\n",
    "print(\"Mejores parámetros: \", grid.best_params_)\n",
    "\n",
    "_ = evaluate_model_clas(grid, x_tr, y_tr, x_te, y_te)"
   ]
  },
  {
   "cell_type": "markdown",
   "metadata": {},
   "source": [
    "Al hacer múltiples evaluaciones, vemos que en realidad el mejor criterio no es 'gini', sino 'entropy', y el número máximo de hojas en el árbol es 20. Es un árbol complejo, pero no demasiado. El valor de balanced accuracy es mayor para el conjunto de entrenamiento que para el de prueba, pero la diferencia no es suficientemente grande como para pensar que se está produciendo sobreajuste.\n",
    "\n",
    "Este clasificador funciona tan bien como SVC."
   ]
  },
  {
   "cell_type": "code",
   "execution_count": 29,
   "metadata": {},
   "outputs": [],
   "source": [
    "y_ch = grid.predict(x_ch)\n",
    "# save_predictions(y_ch, 3)"
   ]
  },
  {
   "cell_type": "markdown",
   "metadata": {},
   "source": [
    "Dado el buen rendimiento de los árboles de decisión, lo siguiente que haremos será probar Random Forest, que es un modelo ensamblado en el que se generan muchos árboles y después se combinan sus predicciones. Con esto reducimos el riesgo de sobreajuste y, en teoría, mejoramos la capacidad de generalización."
   ]
  },
  {
   "cell_type": "markdown",
   "metadata": {},
   "source": [
    "## Random Forest"
   ]
  },
  {
   "cell_type": "code",
   "execution_count": 115,
   "metadata": {},
   "outputs": [
    {
     "name": "stdout",
     "output_type": "stream",
     "text": [
      "Mejores parámetros:  {'clf__bootstrap': True, 'clf__criterion': 'entropy', 'clf__max_depth': 20, 'clf__max_features': 'sqrt', 'clf__max_leaf_nodes': 20, 'clf__max_samples': 0.9, 'clf__n_estimators': 500}\n",
      "                           Acc       Bal. Acc\n",
      "Train                     0.93           0.96\n",
      "Test                      0.89           0.86\n"
     ]
    }
   ],
   "source": [
    "pipeline = Pipeline([\n",
    "    ('scaler', StandardScaler()),\n",
    "    ('clf', RandomForestClassifier(class_weight='balanced', random_state=0))\n",
    "])\n",
    "\n",
    "param_grid = [\n",
    "    {\n",
    "        'clf__criterion': ['gini', 'entropy', 'log_loss'],\n",
    "        'clf__max_depth': [10, 20, 30],\n",
    "        'clf__max_features': ['sqrt', 'log2'],\n",
    "        'clf__max_leaf_nodes': [10, 20, 50],\n",
    "        'clf__n_estimators': [100, 500, 1000],\n",
    "        'clf__bootstrap': [True],\n",
    "        'clf__max_samples': [0.5, 0.7, 0.9],\n",
    "\n",
    "    },\n",
    "]\n",
    "\n",
    "cv = StratifiedKFold(n_splits=5, shuffle=True, random_state=0)\n",
    "\n",
    "grid = GridSearchCV(pipeline, param_grid, cv=cv, scoring='balanced_accuracy', n_jobs=-1)\n",
    "grid.fit(x_tr, y_tr)\n",
    "\n",
    "print(\"Mejores parámetros: \", grid.best_params_)\n",
    "\n",
    "_ = evaluate_model_clas(grid, x_tr, y_tr, x_te, y_te)\n"
   ]
  },
  {
   "cell_type": "markdown",
   "metadata": {},
   "source": [
    "En este caso, la construcción de diversos árboles (500) no ha mejorado nuestra capacidad de generalización, por lo que, puestos a elegir, por tiempo de ejecución e interpretabilidad, nos quedaríamos con el árbol de decisión frente a Random Forest. \n",
    "\n",
    "Convendría realizar una búsqueda de hiperparámetros más exhaustiva para aprovechar al máximo el potencial del ensamblaje, sin embargo, nuestros ordenadores no tienen la capacidad necesaria para hacer eso.\n",
    "\n",
    "Por ello, probaremos con otro clasificador diferente."
   ]
  },
  {
   "cell_type": "markdown",
   "metadata": {},
   "source": [
    "## K Nearest Neighbors"
   ]
  },
  {
   "cell_type": "markdown",
   "metadata": {},
   "source": [
    "Este clasificador funciona de la siguiente forma:\n",
    "\n",
    "1) Para cada punto, calcula la distancia al resto de puntos.\n",
    "\n",
    "2) Ordena los puntos según la distancia y selecciona los k vecinos más cercanos.\n",
    "\n",
    "3) Asigna la clase mayoritaria entre esos vecinos.\n",
    "\n",
    "Los hiperparámetros que podemos ajustar en este caso son los siguientes:\n",
    "\n",
    "- n_neighbors: Número de vecinos que se consideran. Cuanto más alto, más general será nuestro modelo.\n",
    "\n",
    "- weights: Importancia que tiene cada vecino en la toma de decisiones. Usamos 'uniform' cuando queremos que todos los vecinos tengan el mismo peso, mientras que con 'distance' los vecinos más cercanos tienen más peso.\n",
    "\n",
    "- p: Cómo se miden las distancias. p=1 significa Manhattan, y p=2 Euclidiana.\n",
    "\n",
    "La optimización de estos hiperparámetros se llevará a cabo, otra vez, con GridSearchCV."
   ]
  },
  {
   "cell_type": "code",
   "execution_count": 118,
   "metadata": {},
   "outputs": [
    {
     "name": "stdout",
     "output_type": "stream",
     "text": [
      "Mejores parámetros: {'knn__n_neighbors': np.int64(3), 'knn__p': 1, 'knn__weights': 'distance'}\n",
      "                           Acc       Bal. Acc\n",
      "Train                     1.00           1.00\n",
      "Test                      0.91           0.78\n"
     ]
    }
   ],
   "source": [
    "pipeline = Pipeline([\n",
    "    ('scaler', StandardScaler()),\n",
    "    ('knn', KNeighborsClassifier())\n",
    "])\n",
    "\n",
    "param_grid = {\n",
    "    'knn__n_neighbors': np.arange(1, 21), # K\n",
    "    'knn__weights': ['uniform', 'distance'], # Peso de los vecinos\n",
    "    'knn__p': [1, 2] # Distancia: p=1 Manhattan, p=2 Euclidiana\n",
    "}\n",
    "\n",
    "cv = RepeatedStratifiedKFold(n_splits=5, n_repeats=10, random_state=0)\n",
    "\n",
    "grid = GridSearchCV(pipeline, param_grid, cv=cv, scoring='accuracy', n_jobs=-1)\n",
    "grid.fit(x_tr, y_tr)\n",
    "\n",
    "print(\"Mejores parámetros:\", grid.best_params_)\n",
    "_ = evaluate_model_clas(grid, x_tr, y_tr, x_te, y_te)\n"
   ]
  },
  {
   "cell_type": "code",
   "execution_count": 33,
   "metadata": {},
   "outputs": [],
   "source": [
    "y_ch = grid.predict(x_ch)\n",
    "# save_predictions(y_ch, 3)"
   ]
  },
  {
   "cell_type": "markdown",
   "metadata": {},
   "source": [
    "Este clasificador tampoco funciona mejor que los anteriores."
   ]
  },
  {
   "cell_type": "markdown",
   "metadata": {},
   "source": [
    "## CONCLUSIÓN\n",
    "\n",
    "De todos los clasificadores que hemos probado, los que mejor nos han funcionado son SVC y el árbol de decisión, que nos dan valores de balanced accuracy en torno a 0.9. \n",
    "\n",
    "Sin embargo, si tuviéramos que elegir uno de los dos, probablemente sería el árbol de decisión, ya que es mucho más interpretable (puedes ver fácilmente cómo se toman las decisiones). SVC es más una “caja negra” (sobre todo con kernels no lineales), es decir, menos intuitivo. Dado que estamos tratando de diagnosticar una enfermedad, la interpretabilidad del clasificador es crucial, de cara a poder darle una explicación coherente a un paciente.\n",
    "\n",
    "En términos de robustez, el árbol de decisión tiende a sobreajustar más, aunque esto se puede controlar con los distintos hiperparámetros (o con Random Forest, si encuentras la combinación de hiperparámetros adecuada).\n",
    "\n",
    "Por último, los árboles de decisión son más rápidos, lo que los hace mucho más prácticos. SVC puede ser costoso computacionalmente, especialmente con kernels no lineales y grandes conjuntos de datos.\n",
    "\n",
    "Por todo esto, creemos que la mejor de las opciones en este caso es el árbol de decisión."
   ]
  }
 ],
 "metadata": {
  "kernelspec": {
   "display_name": "Python 3",
   "language": "python",
   "name": "python3"
  },
  "language_info": {
   "codemirror_mode": {
    "name": "ipython",
    "version": 3
   },
   "file_extension": ".py",
   "mimetype": "text/x-python",
   "name": "python",
   "nbconvert_exporter": "python",
   "pygments_lexer": "ipython3",
   "version": "3.11.9"
  },
  "toc": {
   "base_numbering": 1,
   "nav_menu": {},
   "number_sections": true,
   "sideBar": true,
   "skip_h1_title": false,
   "title_cell": "Table of Contents",
   "title_sidebar": "Contents",
   "toc_cell": false,
   "toc_position": {
    "height": "calc(100% - 180px)",
    "left": "10px",
    "top": "150px",
    "width": "288px"
   },
   "toc_section_display": true,
   "toc_window_display": true
  }
 },
 "nbformat": 4,
 "nbformat_minor": 4
}
