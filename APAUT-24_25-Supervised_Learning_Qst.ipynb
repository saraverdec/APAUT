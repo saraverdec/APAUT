{
 "cells": [
  {
   "cell_type": "markdown",
   "id": "6e66f4dc",
   "metadata": {},
   "source": [
    "<div class=\"title\">Supervised Learning: Case Study</div>\n",
    "<div class=\"subtitle\">Machine Learning</div>\n",
    "<div class=\"author\">Carlos María Alaíz Gudín &mdash; Universidad Autónoma de Madrid</div>\n",
    "\n",
    "---\n",
    "<div style=\"font-size: large; font-weight: bold; margin-left: 6em;\"><p>Team Number and Names: <u>3: Enrique Juliá Arévalo, Sara Verde Camacho, Leo Pérez Peña</u></div>\n"
   ]
  },
  {
   "cell_type": "markdown",
   "id": "82ee21a7",
   "metadata": {},
   "source": [
    "**Configuration**"
   ]
  },
  {
   "cell_type": "markdown",
   "metadata": {},
   "source": [
    "This cell defines the general configuration of Jupyter Notebook."
   ]
  },
  {
   "cell_type": "code",
   "execution_count": 1,
   "metadata": {},
   "outputs": [
    {
     "data": {
      "text/html": [
       "<head><link rel=\"stylesheet\" href=\"style.css\"></head>\n"
      ],
      "text/plain": [
       "<IPython.core.display.HTML object>"
      ]
     },
     "metadata": {},
     "output_type": "display_data"
    }
   ],
   "source": [
    "%%html\n",
    "<head><link rel=\"stylesheet\" href=\"style.css\"></head>"
   ]
  },
  {
   "cell_type": "markdown",
   "metadata": {},
   "source": [
    "This cell imports the packages to be used."
   ]
  },
  {
   "cell_type": "code",
   "execution_count": 12,
   "metadata": {},
   "outputs": [],
   "source": [
    "# Standard packages.\n",
    "import matplotlib\n",
    "import matplotlib.pyplot as plt\n",
    "import numpy as np\n",
    "import sys\n",
    "\n",
    "import sklearn.dummy\n",
    "\n",
    "# Custom packages.\n",
    "from ml import (\n",
    "\tevaluate_model_clas,\n",
    "\tplot_dataset_clas,\n",
    "\tsave_predictions,\n",
    "\tshow_function,\n",
    ")\n",
    "\n",
    "# Initialisations.\n",
    "matplotlib.rc(\"figure\", figsize=(15, 5))\n",
    "sys.dont_write_bytecode = True\n",
    "\n",
    "from sklearn.dummy import DummyClassifier\n"
   ]
  },
  {
   "cell_type": "markdown",
   "id": "61041123",
   "metadata": {},
   "source": [
    "# Supervised Learning Case Study"
   ]
  },
  {
   "cell_type": "markdown",
   "metadata": {},
   "source": [
    "## Introduction"
   ]
  },
  {
   "cell_type": "markdown",
   "metadata": {},
   "source": [
    "This practical assignment is designed as a **Kaggle competition**.\n",
    "\n",
    "Specifically, a **multiclass classification** dataset will be used, so that each team will compete to improve their predictions over an unlabeled partition of the dataset.\n",
    "\n",
    "It is important to remark that **the grades will not depend on the obtained ranking**, but on the different approaches used to tackle the problem, on the design of the experiments and on the analysis of the results."
   ]
  },
  {
   "cell_type": "markdown",
   "metadata": {},
   "source": [
    "## Rubric"
   ]
  },
  {
   "cell_type": "markdown",
   "metadata": {},
   "source": [
    "The following aspects will be taken into account when evaluating the assignment.\n",
    "\n",
    "\n",
    "* Analyse the data.\n",
    "\n",
    "\n",
    "* Preprocess the features automatically using *pipelines*.\n",
    "\n",
    "\n",
    "* Adjust the hyper-parameters with a validation stage.\n",
    "\n",
    "\n",
    "* Try different models to improve the performance, at least:\n",
    "    * (Regularized) Logistic Regression.\n",
    "    * SVC.\n",
    "    * ANNs.\n",
    "\n",
    "\n",
    "* Try interpretable models to check the important features (e.g. Lasso).\n",
    "\n",
    "\n",
    "* Submit the prediction several times (the evolution of the performance will be also considered).\n",
    "\n",
    "\n",
    "* Any other approach that may improve either the performance or interpretability of the model (e.g. feature selection, ensembles...).\n",
    "\n",
    "\n",
    "* Analyse the results obtained after each experiment, and make decisions following the conclusions."
   ]
  },
  {
   "cell_type": "markdown",
   "metadata": {},
   "source": [
    "## Utilities"
   ]
  },
  {
   "cell_type": "markdown",
   "metadata": {},
   "source": [
    "Some utilities are given next as a starting point, but the teams can defined any other tools that they may need."
   ]
  },
  {
   "cell_type": "markdown",
   "metadata": {},
   "source": [
    "### Team Number"
   ]
  },
  {
   "cell_type": "markdown",
   "metadata": {},
   "source": [
    "The **number of the team** should be inserted here, so that the file of predictions has the appropriate name."
   ]
  },
  {
   "cell_type": "code",
   "execution_count": 5,
   "metadata": {},
   "outputs": [],
   "source": [
    "################################################################################\n",
    "# The team number should be inserted here:\n",
    "team_number = 3\n",
    "################################################################################"
   ]
  },
  {
   "cell_type": "markdown",
   "metadata": {},
   "source": [
    "### Evaluation of the Model"
   ]
  },
  {
   "cell_type": "markdown",
   "metadata": {},
   "source": [
    "The following function evaluates a multiclass model (already fitted), computing and showing the accuracy and balanced accuracy over both the training and test partitions."
   ]
  },
  {
   "cell_type": "code",
   "execution_count": 6,
   "metadata": {},
   "outputs": [
    {
     "data": {
      "text/markdown": [
       "```python\n",
       "def evaluate_model_clas(model, x_tr, y_tr, x_te, y_te, print_table=True):\n",
       "    y_tr_p = model.predict(x_tr)\n",
       "    y_te_p = model.predict(x_te)\n",
       "\n",
       "    er_tr = [accuracy_score(y_tr, y_tr_p), balanced_accuracy_score(y_tr, y_tr_p)]\n",
       "    er_te = [accuracy_score(y_te, y_te_p), balanced_accuracy_score(y_te, y_te_p)]\n",
       "\n",
       "    ers = [er_tr, er_te]\n",
       "    headers = [\"Acc\", \"Bal. Acc\"]\n",
       "\n",
       "    if print_table:\n",
       "        print(\"{:>15}\".format(\"\"), end=\"\")\n",
       "        for h in headers:\n",
       "            print(\"{:>15}\".format(h), end=\"\")\n",
       "        print(\"\")\n",
       "\n",
       "        headers_col = [\"Train\", \"Test\"]\n",
       "\n",
       "        cnt = 0\n",
       "        for er in ers:\n",
       "            hc = headers_col[cnt]\n",
       "            cnt = cnt + 1\n",
       "            print(\"{:<15}\".format(hc), end=\"\")\n",
       "\n",
       "            for e in er:\n",
       "                print(\"{:15.2f}\".format(e), end=\"\")\n",
       "            print(\"\")\n",
       "\n",
       "    return ers\n",
       "```"
      ],
      "text/plain": [
       "<IPython.core.display.Markdown object>"
      ]
     },
     "metadata": {},
     "output_type": "display_data"
    }
   ],
   "source": [
    "show_function(evaluate_model_clas)"
   ]
  },
  {
   "cell_type": "markdown",
   "metadata": {},
   "source": [
    "### Submission of the Predictions"
   ]
  },
  {
   "cell_type": "markdown",
   "metadata": {},
   "source": [
    "The following function saves the predictions on the **challenge partition** to a file with syntax `Team_TT_YYYYMMDD-HHMMSS.pred`, where `TT` stands for the team number, and `YYYYMMDD-HHMMSS` is a timestamp to distinguish the different submissions of a team."
   ]
  },
  {
   "cell_type": "code",
   "execution_count": 7,
   "metadata": {},
   "outputs": [
    {
     "data": {
      "text/markdown": [
       "```python\n",
       "def save_predictions(y_ch_p, team_number, n_preds=500):\n",
       "    if len(y_ch_p) != n_preds:\n",
       "        print(\n",
       "            \"Error saving the predictions, it should be a vector of %d lables\" % n_preds\n",
       "        )\n",
       "    else:\n",
       "        time_str = time.strftime(\"%Y%m%d-%H%M%S\")\n",
       "        np.savetxt(\"Team_{:02d}_{}.txt\".format(team_number, time_str), y_ch_p, fmt=\"%d\")\n",
       "```"
      ],
      "text/plain": [
       "<IPython.core.display.Markdown object>"
      ]
     },
     "metadata": {},
     "output_type": "display_data"
    }
   ],
   "source": [
    "show_function(save_predictions)"
   ]
  },
  {
   "cell_type": "markdown",
   "metadata": {},
   "source": [
    "Once the prediction file has been generated, it can be uploaded to Moodle.\n",
    "It is important to **avoid renaming the files**."
   ]
  },
  {
   "cell_type": "markdown",
   "metadata": {},
   "source": [
    "## Dataset"
   ]
  },
  {
   "cell_type": "markdown",
   "metadata": {},
   "source": [
    "A real dataset will be tackled in this practical assignment.\n",
    "In particular, the [fetal health](https://www.kaggle.com/andrewmvd/fetal-health-classification) dataset of Kaggle, that aims to classify the fetal health in three classes:\n",
    "1. Normal.\n",
    "2. Suspect.\n",
    "3. Pathological.\n",
    "\n",
    "The input data are a set of $21$ variables extracted from the cardiotocographies (CTGs)."
   ]
  },
  {
   "cell_type": "markdown",
   "metadata": {},
   "source": [
    "### Load of the Dataset"
   ]
  },
  {
   "cell_type": "markdown",
   "metadata": {},
   "source": [
    "This cell loads the data, in particular three partitions:\n",
    "1. A training partition, given by `x_tr` and `y_tr`, to train (and validate) the models.\n",
    "2. A test partition, given by `x_te` and `y_te`, to estimate the performance of the model.\n",
    "3. A challenge partition, given by `x_ch`. The real labels are unknown, and hence the predictions should be submitted to know the real performance of the model."
   ]
  },
  {
   "cell_type": "code",
   "execution_count": 8,
   "metadata": {},
   "outputs": [],
   "source": [
    "prefix = \"./data/fetal_health\"\n",
    "\n",
    "x_tr = np.loadtxt(prefix + \"_tr.dat\")\n",
    "x_te = np.loadtxt(prefix + \"_te.dat\")\n",
    "x_ch = np.loadtxt(prefix + \"_ch.dat\")\n",
    "\n",
    "y_tr = np.loadtxt(prefix + \"_tr.lab\")\n",
    "y_te = np.loadtxt(prefix + \"_te.lab\")\n",
    "\n",
    "features = [line.rstrip(\"\\n\") for line in open(\"./data/fetal_health.head\")]\n",
    "n_features = len(features)"
   ]
  },
  {
   "cell_type": "markdown",
   "metadata": {},
   "source": [
    "### Initial Incomplete Analysis"
   ]
  },
  {
   "cell_type": "markdown",
   "metadata": {},
   "source": [
    "Plot of the data over the first two features."
   ]
  },
  {
   "cell_type": "code",
   "execution_count": 9,
   "metadata": {},
   "outputs": [
    {
     "data": {
      "image/png": "[encoded data removed]",
      "text/plain": [
       "<Figure size 1500x500 with 1 Axes>"
      ]
     },
     "metadata": {},
     "output_type": "display_data"
    }
   ],
   "source": [
    "y_tr_binary = y_tr.copy()\n",
    "y_tr_binary[y_tr == 3] = 2\n",
    "plot_dataset_clas(x_tr, y_tr_binary)\n",
    "plt.xlabel(features[0])\n",
    "plt.ylabel(features[1])\n",
    "plt.legend([\"Normal\", \"Suspect/Pathological\"])\n",
    "plt.axis(\"auto\")\n",
    "plt.show()"
   ]
  },
  {
   "cell_type": "markdown",
   "metadata": {},
   "source": [
    "Balance of the dataset."
   ]
  },
  {
   "cell_type": "code",
   "execution_count": 10,
   "metadata": {},
   "outputs": [
    {
     "name": "stdout",
     "output_type": "stream",
     "text": [
      "Class 1.0: 877 samples (77.89%)\n",
      "Class 2.0: 156 samples (13.85%)\n",
      "Class 3.0:  93 samples ( 8.26%)\n"
     ]
    }
   ],
   "source": [
    "for lab in np.unique(y_tr):\n",
    "    n_sam = np.sum(y_tr == lab)\n",
    "    print(\n",
    "        \"Class {}: {:3d} samples ({:5.2f}%)\".format(\n",
    "            lab, n_sam, 100.0 * n_sam / len(y_tr)\n",
    "        )\n",
    "    )"
   ]
  },
  {
   "cell_type": "markdown",
   "metadata": {},
   "source": [
    "Dummy classifier: se calcula la salida más frecuente y esta será la salida que se de siempre, no tiene en cuenta el input."
   ]
  },
  {
   "cell_type": "code",
   "execution_count": null,
   "metadata": {},
   "outputs": [
    {
     "name": "stdout",
     "output_type": "stream",
     "text": [
      "0.7788632326820604\n"
     ]
    }
   ],
   "source": [
    "dummy_clf = DummyClassifier(strategy=\"most_frequent\")\n",
    "dummy_clf.fit(x_tr, y_tr)\n",
    "dummy_clf.predict(x_tr)\n",
    "print(dummy_clf.score(x_tr, y_tr))"
   ]
  },
  {
   "cell_type": "code",
   "execution_count": 18,
   "metadata": {},
   "outputs": [
    {
     "name": "stdout",
     "output_type": "stream",
     "text": [
      "                           Acc       Bal. Acc\n",
      "Train                     0.78           0.33\n",
      "Test                      0.78           0.33\n"
     ]
    },
    {
     "data": {
      "text/plain": [
       "[[0.7788632326820604, 0.3333333333333333], [0.778, 0.3333333333333333]]"
      ]
     },
     "execution_count": 18,
     "metadata": {},
     "output_type": "execute_result"
    }
   ],
   "source": [
    "evaluate_model_clas(dummy_clf, x_tr, y_tr, x_te, y_te)"
   ]
  },
  {
   "cell_type": "code",
   "execution_count": 19,
   "metadata": {},
   "outputs": [],
   "source": [
    "y_ch = dummy_clf.predict(x_ch)\n",
    "save_predictions(y_ch, 3)"
   ]
  },
  {
   "cell_type": "code",
   "execution_count": null,
   "metadata": {},
   "outputs": [],
   "source": []
  }
 ],
 "metadata": {
  "kernelspec": {
   "display_name": "base",
   "language": "python",
   "name": "python3"
  },
  "language_info": {
   "codemirror_mode": {
    "name": "ipython",
    "version": 3
   },
   "file_extension": ".py",
   "mimetype": "text/x-python",
   "name": "python",
   "nbconvert_exporter": "python",
   "pygments_lexer": "ipython3",
   "version": "3.12.7"
  },
  "toc": {
   "base_numbering": 1,
   "nav_menu": {},
   "number_sections": true,
   "sideBar": true,
   "skip_h1_title": false,
   "title_cell": "Table of Contents",
   "title_sidebar": "Contents",
   "toc_cell": false,
   "toc_position": {
    "height": "calc(100% - 180px)",
    "left": "10px",
    "top": "150px",
    "width": "288px"
   },
   "toc_section_display": true,
   "toc_window_display": true
  }
 },
 "nbformat": 4,
 "nbformat_minor": 4
}
