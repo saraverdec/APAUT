{
 "cells": [
  {
   "cell_type": "code",
   "execution_count": 32,
   "metadata": {},
   "outputs": [],
   "source": [
    "%matplotlib inline\n",
    "import numpy as np\n",
    "import pandas as pd\n",
    "import matplotlib.pyplot as plt\n",
    "# seaborn is a package for statistical data visualization\n",
    "import seaborn as sns; sns.set()"
   ]
  },
  {
   "cell_type": "code",
   "execution_count": 5,
   "metadata": {},
   "outputs": [],
   "source": [
    "df = pd.read_csv('wdbc.csv')\n"
   ]
  },
  {
   "cell_type": "code",
   "execution_count": 6,
   "metadata": {},
   "outputs": [
    {
     "data": {
      "text/plain": [
       "(568, 32)"
      ]
     },
     "execution_count": 6,
     "metadata": {},
     "output_type": "execute_result"
    }
   ],
   "source": [
    "df.shape"
   ]
  },
  {
   "cell_type": "code",
   "execution_count": 7,
   "metadata": {},
   "outputs": [
    {
     "data": {
      "text/html": [
       "<div>\n",
       "<style scoped>\n",
       "    .dataframe tbody tr th:only-of-type {\n",
       "        vertical-align: middle;\n",
       "    }\n",
       "\n",
       "    .dataframe tbody tr th {\n",
       "        vertical-align: top;\n",
       "    }\n",
       "\n",
       "    .dataframe thead th {\n",
       "        text-align: right;\n",
       "    }\n",
       "</style>\n",
       "<table border=\"1\" class=\"dataframe\">\n",
       "  <thead>\n",
       "    <tr style=\"text-align: right;\">\n",
       "      <th></th>\n",
       "      <th>842302</th>\n",
       "      <th>17.99</th>\n",
       "      <th>10.38</th>\n",
       "      <th>122.8</th>\n",
       "      <th>1001</th>\n",
       "      <th>0.1184</th>\n",
       "      <th>0.2776</th>\n",
       "      <th>0.3001</th>\n",
       "      <th>0.1471</th>\n",
       "      <th>0.2419</th>\n",
       "      <th>...</th>\n",
       "      <th>25.38</th>\n",
       "      <th>17.33</th>\n",
       "      <th>184.6</th>\n",
       "      <th>2019</th>\n",
       "      <th>0.1622</th>\n",
       "      <th>0.6656</th>\n",
       "      <th>0.7119</th>\n",
       "      <th>0.2654</th>\n",
       "      <th>0.4601</th>\n",
       "      <th>0.1189</th>\n",
       "    </tr>\n",
       "  </thead>\n",
       "  <tbody>\n",
       "    <tr>\n",
       "      <th>count</th>\n",
       "      <td>5.680000e+02</td>\n",
       "      <td>568.000000</td>\n",
       "      <td>568.000000</td>\n",
       "      <td>568.000000</td>\n",
       "      <td>568.000000</td>\n",
       "      <td>568.000000</td>\n",
       "      <td>568.000000</td>\n",
       "      <td>568.000000</td>\n",
       "      <td>568.000000</td>\n",
       "      <td>568.000000</td>\n",
       "      <td>...</td>\n",
       "      <td>568.00000</td>\n",
       "      <td>568.000000</td>\n",
       "      <td>568.000000</td>\n",
       "      <td>568.000000</td>\n",
       "      <td>568.000000</td>\n",
       "      <td>568.000000</td>\n",
       "      <td>568.000000</td>\n",
       "      <td>568.000000</td>\n",
       "      <td>568.000000</td>\n",
       "      <td>568.000000</td>\n",
       "    </tr>\n",
       "    <tr>\n",
       "      <th>mean</th>\n",
       "      <td>3.042382e+07</td>\n",
       "      <td>14.120491</td>\n",
       "      <td>19.305335</td>\n",
       "      <td>91.914754</td>\n",
       "      <td>654.279754</td>\n",
       "      <td>0.096321</td>\n",
       "      <td>0.104036</td>\n",
       "      <td>0.088427</td>\n",
       "      <td>0.048746</td>\n",
       "      <td>0.181055</td>\n",
       "      <td>...</td>\n",
       "      <td>16.25315</td>\n",
       "      <td>25.691919</td>\n",
       "      <td>107.125053</td>\n",
       "      <td>878.578873</td>\n",
       "      <td>0.132316</td>\n",
       "      <td>0.253541</td>\n",
       "      <td>0.271414</td>\n",
       "      <td>0.114341</td>\n",
       "      <td>0.289776</td>\n",
       "      <td>0.083884</td>\n",
       "    </tr>\n",
       "    <tr>\n",
       "      <th>std</th>\n",
       "      <td>1.251246e+08</td>\n",
       "      <td>3.523416</td>\n",
       "      <td>4.288506</td>\n",
       "      <td>24.285848</td>\n",
       "      <td>351.923751</td>\n",
       "      <td>0.014046</td>\n",
       "      <td>0.052355</td>\n",
       "      <td>0.079294</td>\n",
       "      <td>0.038617</td>\n",
       "      <td>0.027319</td>\n",
       "      <td>...</td>\n",
       "      <td>4.82232</td>\n",
       "      <td>6.141662</td>\n",
       "      <td>33.474687</td>\n",
       "      <td>567.846267</td>\n",
       "      <td>0.022818</td>\n",
       "      <td>0.156523</td>\n",
       "      <td>0.207989</td>\n",
       "      <td>0.065484</td>\n",
       "      <td>0.061508</td>\n",
       "      <td>0.018017</td>\n",
       "    </tr>\n",
       "    <tr>\n",
       "      <th>min</th>\n",
       "      <td>8.670000e+03</td>\n",
       "      <td>6.981000</td>\n",
       "      <td>9.710000</td>\n",
       "      <td>43.790000</td>\n",
       "      <td>143.500000</td>\n",
       "      <td>0.052630</td>\n",
       "      <td>0.019380</td>\n",
       "      <td>0.000000</td>\n",
       "      <td>0.000000</td>\n",
       "      <td>0.106000</td>\n",
       "      <td>...</td>\n",
       "      <td>7.93000</td>\n",
       "      <td>12.020000</td>\n",
       "      <td>50.410000</td>\n",
       "      <td>185.200000</td>\n",
       "      <td>0.071170</td>\n",
       "      <td>0.027290</td>\n",
       "      <td>0.000000</td>\n",
       "      <td>0.000000</td>\n",
       "      <td>0.156500</td>\n",
       "      <td>0.055040</td>\n",
       "    </tr>\n",
       "    <tr>\n",
       "      <th>25%</th>\n",
       "      <td>8.692225e+05</td>\n",
       "      <td>11.697500</td>\n",
       "      <td>16.177500</td>\n",
       "      <td>75.135000</td>\n",
       "      <td>420.175000</td>\n",
       "      <td>0.086290</td>\n",
       "      <td>0.064815</td>\n",
       "      <td>0.029540</td>\n",
       "      <td>0.020310</td>\n",
       "      <td>0.161900</td>\n",
       "      <td>...</td>\n",
       "      <td>13.01000</td>\n",
       "      <td>21.095000</td>\n",
       "      <td>84.102500</td>\n",
       "      <td>514.975000</td>\n",
       "      <td>0.116600</td>\n",
       "      <td>0.146900</td>\n",
       "      <td>0.114475</td>\n",
       "      <td>0.064730</td>\n",
       "      <td>0.250350</td>\n",
       "      <td>0.071412</td>\n",
       "    </tr>\n",
       "    <tr>\n",
       "      <th>50%</th>\n",
       "      <td>9.061570e+05</td>\n",
       "      <td>13.355000</td>\n",
       "      <td>18.855000</td>\n",
       "      <td>86.210000</td>\n",
       "      <td>548.750000</td>\n",
       "      <td>0.095865</td>\n",
       "      <td>0.092525</td>\n",
       "      <td>0.061400</td>\n",
       "      <td>0.033455</td>\n",
       "      <td>0.179200</td>\n",
       "      <td>...</td>\n",
       "      <td>14.96500</td>\n",
       "      <td>25.425000</td>\n",
       "      <td>97.655000</td>\n",
       "      <td>685.550000</td>\n",
       "      <td>0.131300</td>\n",
       "      <td>0.211850</td>\n",
       "      <td>0.226550</td>\n",
       "      <td>0.099840</td>\n",
       "      <td>0.282050</td>\n",
       "      <td>0.080015</td>\n",
       "    </tr>\n",
       "    <tr>\n",
       "      <th>75%</th>\n",
       "      <td>8.825022e+06</td>\n",
       "      <td>15.780000</td>\n",
       "      <td>21.802500</td>\n",
       "      <td>103.875000</td>\n",
       "      <td>782.625000</td>\n",
       "      <td>0.105300</td>\n",
       "      <td>0.130400</td>\n",
       "      <td>0.129650</td>\n",
       "      <td>0.073730</td>\n",
       "      <td>0.195625</td>\n",
       "      <td>...</td>\n",
       "      <td>18.76750</td>\n",
       "      <td>29.757500</td>\n",
       "      <td>125.175000</td>\n",
       "      <td>1073.500000</td>\n",
       "      <td>0.146000</td>\n",
       "      <td>0.337600</td>\n",
       "      <td>0.381400</td>\n",
       "      <td>0.161325</td>\n",
       "      <td>0.317675</td>\n",
       "      <td>0.092065</td>\n",
       "    </tr>\n",
       "    <tr>\n",
       "      <th>max</th>\n",
       "      <td>9.113205e+08</td>\n",
       "      <td>28.110000</td>\n",
       "      <td>39.280000</td>\n",
       "      <td>188.500000</td>\n",
       "      <td>2501.000000</td>\n",
       "      <td>0.163400</td>\n",
       "      <td>0.345400</td>\n",
       "      <td>0.426800</td>\n",
       "      <td>0.201200</td>\n",
       "      <td>0.304000</td>\n",
       "      <td>...</td>\n",
       "      <td>36.04000</td>\n",
       "      <td>49.540000</td>\n",
       "      <td>251.200000</td>\n",
       "      <td>4254.000000</td>\n",
       "      <td>0.222600</td>\n",
       "      <td>1.058000</td>\n",
       "      <td>1.252000</td>\n",
       "      <td>0.291000</td>\n",
       "      <td>0.663800</td>\n",
       "      <td>0.207500</td>\n",
       "    </tr>\n",
       "  </tbody>\n",
       "</table>\n",
       "<p>8 rows × 31 columns</p>\n",
       "</div>"
      ],
      "text/plain": [
       "             842302       17.99       10.38       122.8         1001  \\\n",
       "count  5.680000e+02  568.000000  568.000000  568.000000   568.000000   \n",
       "mean   3.042382e+07   14.120491   19.305335   91.914754   654.279754   \n",
       "std    1.251246e+08    3.523416    4.288506   24.285848   351.923751   \n",
       "min    8.670000e+03    6.981000    9.710000   43.790000   143.500000   \n",
       "25%    8.692225e+05   11.697500   16.177500   75.135000   420.175000   \n",
       "50%    9.061570e+05   13.355000   18.855000   86.210000   548.750000   \n",
       "75%    8.825022e+06   15.780000   21.802500  103.875000   782.625000   \n",
       "max    9.113205e+08   28.110000   39.280000  188.500000  2501.000000   \n",
       "\n",
       "           0.1184      0.2776      0.3001      0.1471      0.2419  ...  \\\n",
       "count  568.000000  568.000000  568.000000  568.000000  568.000000  ...   \n",
       "mean     0.096321    0.104036    0.088427    0.048746    0.181055  ...   \n",
       "std      0.014046    0.052355    0.079294    0.038617    0.027319  ...   \n",
       "min      0.052630    0.019380    0.000000    0.000000    0.106000  ...   \n",
       "25%      0.086290    0.064815    0.029540    0.020310    0.161900  ...   \n",
       "50%      0.095865    0.092525    0.061400    0.033455    0.179200  ...   \n",
       "75%      0.105300    0.130400    0.129650    0.073730    0.195625  ...   \n",
       "max      0.163400    0.345400    0.426800    0.201200    0.304000  ...   \n",
       "\n",
       "           25.38       17.33       184.6         2019      0.1622      0.6656  \\\n",
       "count  568.00000  568.000000  568.000000   568.000000  568.000000  568.000000   \n",
       "mean    16.25315   25.691919  107.125053   878.578873    0.132316    0.253541   \n",
       "std      4.82232    6.141662   33.474687   567.846267    0.022818    0.156523   \n",
       "min      7.93000   12.020000   50.410000   185.200000    0.071170    0.027290   \n",
       "25%     13.01000   21.095000   84.102500   514.975000    0.116600    0.146900   \n",
       "50%     14.96500   25.425000   97.655000   685.550000    0.131300    0.211850   \n",
       "75%     18.76750   29.757500  125.175000  1073.500000    0.146000    0.337600   \n",
       "max     36.04000   49.540000  251.200000  4254.000000    0.222600    1.058000   \n",
       "\n",
       "           0.7119      0.2654      0.4601      0.1189  \n",
       "count  568.000000  568.000000  568.000000  568.000000  \n",
       "mean     0.271414    0.114341    0.289776    0.083884  \n",
       "std      0.207989    0.065484    0.061508    0.018017  \n",
       "min      0.000000    0.000000    0.156500    0.055040  \n",
       "25%      0.114475    0.064730    0.250350    0.071412  \n",
       "50%      0.226550    0.099840    0.282050    0.080015  \n",
       "75%      0.381400    0.161325    0.317675    0.092065  \n",
       "max      1.252000    0.291000    0.663800    0.207500  \n",
       "\n",
       "[8 rows x 31 columns]"
      ]
     },
     "execution_count": 7,
     "metadata": {},
     "output_type": "execute_result"
    }
   ],
   "source": [
    "df.describe()"
   ]
  },
  {
   "cell_type": "code",
   "execution_count": 8,
   "metadata": {},
   "outputs": [
    {
     "data": {
      "text/plain": [
       "842302        int64\n",
       "M            object\n",
       "17.99       float64\n",
       "10.38       float64\n",
       "122.8       float64\n",
       "1001        float64\n",
       "0.1184      float64\n",
       "0.2776      float64\n",
       "0.3001      float64\n",
       "0.1471      float64\n",
       "0.2419      float64\n",
       "0.07871     float64\n",
       "1.095       float64\n",
       "0.9053      float64\n",
       "8.589       float64\n",
       "153.4       float64\n",
       "0.006399    float64\n",
       "0.04904     float64\n",
       "0.05373     float64\n",
       "0.01587     float64\n",
       "0.03003     float64\n",
       "0.006193    float64\n",
       "25.38       float64\n",
       "17.33       float64\n",
       "184.6       float64\n",
       "2019        float64\n",
       "0.1622      float64\n",
       "0.6656      float64\n",
       "0.7119      float64\n",
       "0.2654      float64\n",
       "0.4601      float64\n",
       "0.1189      float64\n",
       "dtype: object"
      ]
     },
     "execution_count": 8,
     "metadata": {},
     "output_type": "execute_result"
    }
   ],
   "source": [
    "df.dtypes"
   ]
  },
  {
   "cell_type": "code",
   "execution_count": 36,
   "metadata": {},
   "outputs": [
    {
     "data": {
      "text/plain": [
       "array(['malign', 'malign', 'malign', 'malign', 'malign', 'malign',\n",
       "       'malign', 'malign', 'malign', 'malign'], dtype='<U10')"
      ]
     },
     "execution_count": 36,
     "metadata": {},
     "output_type": "execute_result"
    }
   ],
   "source": [
    "X = df.values[:,2:].astype(float) # no nos interesa el identificador asi ni la etiqueta\n",
    "y = (df.values[:,1]=='B').astype(int) #guardamos la etiqueta en y\n",
    "target_names = np.array([('malign'),('benign')],dtype='U10') #los guardamos como el nombre completo en un array de 2x1\n",
    "target_names[y][:10] #vemos si funciona"
   ]
  },
  {
   "cell_type": "code",
   "execution_count": 37,
   "metadata": {},
   "outputs": [
    {
     "data": {
      "text/plain": [
       "211"
      ]
     },
     "execution_count": 37,
     "metadata": {},
     "output_type": "execute_result"
    }
   ],
   "source": [
    "(target_names[y]==\"malign\").sum() #vemos cuantos son malignos"
   ]
  },
  {
   "cell_type": "code",
   "execution_count": 38,
   "metadata": {},
   "outputs": [
    {
     "data": {
      "text/plain": [
       "357"
      ]
     },
     "execution_count": 38,
     "metadata": {},
     "output_type": "execute_result"
    }
   ],
   "source": [
    "(target_names[y]==\"benign\").sum() #vemos cuantos son benignos"
   ]
  },
  {
   "cell_type": "code",
   "execution_count": 39,
   "metadata": {},
   "outputs": [
    {
     "name": "stdout",
     "output_type": "stream",
     "text": [
      "(568, 30)\n",
      "(568, 4)\n",
      "explained variance ratio (first two components): [9.82298063e-01 1.59270546e-02 1.55678370e-03 1.21340333e-04]\n"
     ]
    }
   ],
   "source": [
    "from sklearn.decomposition import PCA\n",
    "\n",
    "pca = PCA(n_components=4) #creamos el objeto pca con 4 componentes\n",
    "X_r = pca.fit(X).transform(X) #ajustamos el modelo y transformamos los datos\n",
    "print(X.shape) #vemos la forma de los datos originales\n",
    "print(X_r.shape) #vemos la forma de los datos transformados\n",
    "\n",
    "print(f'explained variance ratio (first two components): {pca.explained_variance_ratio_}')"
   ]
  },
  {
   "cell_type": "code",
   "execution_count": 40,
   "metadata": {},
   "outputs": [
    {
     "data": {
      "image/png": "[encoded data removed]",
      "text/plain": [
       "<Figure size 640x480 with 1 Axes>"
      ]
     },
     "metadata": {},
     "output_type": "display_data"
    }
   ],
   "source": [
    "plt.figure()\n",
    "comp1=0; #first component to visualize, you can modify it\n",
    "comp2=1; #second component to visualize, you can modify it\n",
    "\n",
    "# plot the two components selected above for both malign and benign tumors\n",
    "plt.scatter(X_r[y == 0, comp1], X_r[y == 0, comp2], color='r', alpha=.7, lw=1,\n",
    "                label='malign')\n",
    "\n",
    "plt.scatter(X_r[y == 1, comp1], X_r[y == 1, comp2], color='g', alpha=.1, lw=1,\n",
    "                label='benign')\n",
    "\n",
    "plt.legend(loc='best', shadow=False, scatterpoints=1)\n",
    "plt.title('PCA WDBC dataset')\n",
    "\n",
    "\n",
    "plt.show()"
   ]
  }
 ],
 "metadata": {
  "kernelspec": {
   "display_name": "base",
   "language": "python",
   "name": "python3"
  },
  "language_info": {
   "codemirror_mode": {
    "name": "ipython",
    "version": 3
   },
   "file_extension": ".py",
   "mimetype": "text/x-python",
   "name": "python",
   "nbconvert_exporter": "python",
   "pygments_lexer": "ipython3",
   "version": "3.12.7"
  }
 },
 "nbformat": 4,
 "nbformat_minor": 2
}
